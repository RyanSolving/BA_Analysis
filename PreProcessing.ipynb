{
  "metadata": {
    "kernelspec": {
      "language": "python",
      "display_name": "Python 3",
      "name": "python3"
    },
    "language_info": {
      "name": "python",
      "version": "3.11.11",
      "mimetype": "text/x-python",
      "codemirror_mode": {
        "name": "ipython",
        "version": 3
      },
      "pygments_lexer": "ipython3",
      "nbconvert_exporter": "python",
      "file_extension": ".py"
    },
    "kaggle": {
      "accelerator": "none",
      "dataSources": [
        {
          "sourceId": 1345411,
          "sourceType": "datasetVersion",
          "datasetId": 782434
        }
      ],
      "dockerImageVersionId": 31012,
      "isInternetEnabled": true,
      "language": "python",
      "sourceType": "notebook",
      "isGpuEnabled": false
    },
    "colab": {
      "provenance": [],
      "include_colab_link": true
    }
  },
  "nbformat_minor": 0,
  "nbformat": 4,
  "cells": [
    {
      "cell_type": "markdown",
      "metadata": {
        "id": "view-in-github",
        "colab_type": "text"
      },
      "source": [
        "<a href=\"https://colab.research.google.com/github/RyanSolving/BA_Analysis/blob/main/PreProcessing.ipynb\" target=\"_parent\"><img src=\"https://colab.research.google.com/assets/colab-badge.svg\" alt=\"Open In Colab\"/></a>"
      ]
    },
    {
      "source": [
        "# IMPORTANT: RUN THIS CELL IN ORDER TO IMPORT YOUR KAGGLE DATA SOURCES,\n",
        "# THEN FEEL FREE TO DELETE THIS CELL.\n",
        "# NOTE: THIS NOTEBOOK ENVIRONMENT DIFFERS FROM KAGGLE'S PYTHON\n",
        "# ENVIRONMENT SO THERE MAY BE MISSING LIBRARIES USED BY YOUR\n",
        "# NOTEBOOK.\n",
        "import kagglehub\n",
        "andrewmvd_business_analyst_jobs_path = kagglehub.dataset_download('andrewmvd/business-analyst-jobs')\n",
        "\n",
        "print('Data source import complete.')\n"
      ],
      "metadata": {
        "id": "LsfJkRcUEXYR",
        "outputId": "6382927e-85eb-4f96-bb96-5854542bba13",
        "colab": {
          "base_uri": "https://localhost:8080/"
        }
      },
      "cell_type": "code",
      "outputs": [
        {
          "output_type": "stream",
          "name": "stdout",
          "text": [
            "Data source import complete.\n"
          ]
        }
      ],
      "execution_count": null
    },
    {
      "cell_type": "code",
      "source": [
        "# This Python 3 environment comes with many helpful analytics libraries installed\n",
        "# It is defined by the kaggle/python Docker image: https://github.com/kaggle/docker-python\n",
        "# For example, here's several helpful packages to load\n",
        "\n",
        "import numpy as np # linear algebra\n",
        "import pandas as pd # data processing, CSV file I/O (e.g. pd.read_csv)\n",
        "\n",
        "# Input data files are available in the read-only \"../input/\" directory\n",
        "# For example, running this (by clicking run or pressing Shift+Enter) will list all files under the input directory\n",
        "\n",
        "import os\n",
        "for dirname, _, filenames in os.walk('/kaggle/input'):\n",
        "    for filename in filenames:\n",
        "        print(os.path.join(dirname, filename))\n",
        "\n",
        "# You can write up to 20GB to the current directory (/kaggle/working/) that gets preserved as output when you create a version using \"Save & Run All\"\n",
        "# You can also write temporary files to /kaggle/temp/, but they won't be saved outside of the current session"
      ],
      "metadata": {
        "_uuid": "8f2839f25d086af736a60e9eeb907d3b93b6e0e5",
        "_cell_guid": "b1076dfc-b9ad-4769-8c92-a6c4dae69d19",
        "trusted": true,
        "execution": {
          "iopub.status.busy": "2025-04-22T10:12:12.421129Z",
          "iopub.execute_input": "2025-04-22T10:12:12.421519Z",
          "iopub.status.idle": "2025-04-22T10:12:12.433951Z",
          "shell.execute_reply.started": "2025-04-22T10:12:12.421503Z",
          "shell.execute_reply": "2025-04-22T10:12:12.432197Z"
        },
        "id": "VkyfjwoqEXYT",
        "colab": {
          "base_uri": "https://localhost:8080/"
        },
        "outputId": "8e0360f5-45ad-4c9e-d914-f255a6fd4a2d"
      },
      "outputs": [
        {
          "output_type": "stream",
          "name": "stdout",
          "text": [
            "/kaggle/input/business-analyst-jobs/BusinessAnalyst.csv\n"
          ]
        }
      ],
      "execution_count": null
    },
    {
      "cell_type": "code",
      "source": [
        "os.walk(andrewmvd_business_analyst_jobs_path)"
      ],
      "metadata": {
        "id": "TFBtxtDIEjHt",
        "outputId": "56c09894-6a66-4f54-e789-b0a28d4dd74a",
        "colab": {
          "base_uri": "https://localhost:8080/"
        }
      },
      "execution_count": null,
      "outputs": [
        {
          "output_type": "execute_result",
          "data": {
            "text/plain": [
              "<generator object _walk at 0x7ebf508d7e10>"
            ]
          },
          "metadata": {},
          "execution_count": 4
        }
      ]
    },
    {
      "cell_type": "markdown",
      "source": [
        "# Purpose Statement"
      ],
      "metadata": {
        "id": "hRgsfRhGEXYU"
      }
    },
    {
      "cell_type": "markdown",
      "source": [
        "This markdown's deligated for database normalization, in aim of practicing Power BI building"
      ],
      "metadata": {
        "id": "HIIUpxVIEXYV"
      }
    },
    {
      "cell_type": "code",
      "source": [
        "df = pd.read_csv(f'{andrewmvd_business_analyst_jobs_path}/BusinessAnalyst.csv')"
      ],
      "metadata": {
        "trusted": true,
        "execution": {
          "iopub.status.busy": "2025-04-22T10:12:12.460252Z",
          "iopub.execute_input": "2025-04-22T10:12:12.461796Z",
          "iopub.status.idle": "2025-04-22T10:12:12.619042Z",
          "shell.execute_reply.started": "2025-04-22T10:12:12.461737Z",
          "shell.execute_reply": "2025-04-22T10:12:12.618355Z"
        },
        "id": "-hmEqkfLEXYW"
      },
      "outputs": [],
      "execution_count": null
    },
    {
      "cell_type": "code",
      "source": [
        "df.head()"
      ],
      "metadata": {
        "trusted": true,
        "execution": {
          "iopub.status.busy": "2025-04-22T10:12:12.619995Z",
          "iopub.execute_input": "2025-04-22T10:12:12.620187Z",
          "iopub.status.idle": "2025-04-22T10:12:12.63292Z",
          "shell.execute_reply.started": "2025-04-22T10:12:12.620153Z",
          "shell.execute_reply": "2025-04-22T10:12:12.632085Z"
        },
        "id": "dDWGppLQEXYW",
        "outputId": "4822c584-7315-4c4e-99fe-28aed1da3bc3",
        "colab": {
          "base_uri": "https://localhost:8080/",
          "height": 504
        }
      },
      "outputs": [
        {
          "output_type": "execute_result",
          "data": {
            "text/plain": [
              "  Unnamed: 0 index                                         Job Title  \\\n",
              "0          0     0  Business Analyst - Clinical & Logistics Platform   \n",
              "1          1     1                                  Business Analyst   \n",
              "2          2     2                                      Data Analyst   \n",
              "3          3     3   Information Security Analyst, Incident Response   \n",
              "4          4     4                     Analyst - FP&A Global Revenue   \n",
              "\n",
              "               Salary Estimate  \\\n",
              "0  $56K-$102K (Glassdoor est.)   \n",
              "1  $56K-$102K (Glassdoor est.)   \n",
              "2  $56K-$102K (Glassdoor est.)   \n",
              "3  $56K-$102K (Glassdoor est.)   \n",
              "4  $56K-$102K (Glassdoor est.)   \n",
              "\n",
              "                                     Job Description Rating  \\\n",
              "0  Company Overview\\n\\n\\nAt Memorial Sloan Ketter...    3.9   \n",
              "1  We are seeking for an energetic and collaborat...    3.8   \n",
              "2  For more than a decade, Asembia has been worki...    3.6   \n",
              "3  Job Description Summary\\nThe Information Secur...    3.6   \n",
              "4  Magnite is the world's largest independent sel...    3.4   \n",
              "\n",
              "                    Company Name            Location        Headquarters  \\\n",
              "0  Memorial Sloan-Kettering\\n3.9        New York, NY        New York, NY   \n",
              "1   Paine Schwartz Partners\\n3.8        New York, NY        New York, NY   \n",
              "2                   Asembia\\n3.6    Florham Park, NJ    Florham Park, NJ   \n",
              "3                        BD\\n3.6  Franklin Lakes, NJ  Franklin Lakes, NJ   \n",
              "4           Rubicon Project\\n3.4        New York, NY     Los Angeles, CA   \n",
              "\n",
              "                    Size Founded       Type of ownership  \\\n",
              "0       10000+ employees    1884  Nonprofit Organization   \n",
              "1      1 to 50 employees      -1       Company - Private   \n",
              "2  501 to 1000 employees    2004       Company - Private   \n",
              "3       10000+ employees    1897        Company - Public   \n",
              "4   201 to 500 employees    2007        Company - Public   \n",
              "\n",
              "                             Industry                     Sector  \\\n",
              "0    Health Care Services & Hospitals                Health Care   \n",
              "1    Venture Capital & Private Equity                    Finance   \n",
              "2           Biotech & Pharmaceuticals  Biotech & Pharmaceuticals   \n",
              "3  Health Care Products Manufacturing              Manufacturing   \n",
              "4                            Internet     Information Technology   \n",
              "\n",
              "                      Revenue  \\\n",
              "0      $2 to $5 billion (USD)   \n",
              "1    Unknown / Non-Applicable   \n",
              "2     $5 to $10 million (USD)   \n",
              "3          $10+ billion (USD)   \n",
              "4  $100 to $500 million (USD)   \n",
              "\n",
              "                                         Competitors Easy Apply  \n",
              "0  Mayo Clinic, The Johns Hopkins Hospital, MD An...         -1  \n",
              "1                                                 -1       True  \n",
              "2                                                 -1         -1  \n",
              "3                            Abbott, Siemens, Baxter         -1  \n",
              "4                 PubMatic, AppNexus, Index Exchange       True  "
            ],
            "text/html": [
              "\n",
              "  <div id=\"df-fdb4f4ca-6437-4da4-bcb5-f3003fa239e4\" class=\"colab-df-container\">\n",
              "    <div>\n",
              "<style scoped>\n",
              "    .dataframe tbody tr th:only-of-type {\n",
              "        vertical-align: middle;\n",
              "    }\n",
              "\n",
              "    .dataframe tbody tr th {\n",
              "        vertical-align: top;\n",
              "    }\n",
              "\n",
              "    .dataframe thead th {\n",
              "        text-align: right;\n",
              "    }\n",
              "</style>\n",
              "<table border=\"1\" class=\"dataframe\">\n",
              "  <thead>\n",
              "    <tr style=\"text-align: right;\">\n",
              "      <th></th>\n",
              "      <th>Unnamed: 0</th>\n",
              "      <th>index</th>\n",
              "      <th>Job Title</th>\n",
              "      <th>Salary Estimate</th>\n",
              "      <th>Job Description</th>\n",
              "      <th>Rating</th>\n",
              "      <th>Company Name</th>\n",
              "      <th>Location</th>\n",
              "      <th>Headquarters</th>\n",
              "      <th>Size</th>\n",
              "      <th>Founded</th>\n",
              "      <th>Type of ownership</th>\n",
              "      <th>Industry</th>\n",
              "      <th>Sector</th>\n",
              "      <th>Revenue</th>\n",
              "      <th>Competitors</th>\n",
              "      <th>Easy Apply</th>\n",
              "    </tr>\n",
              "  </thead>\n",
              "  <tbody>\n",
              "    <tr>\n",
              "      <th>0</th>\n",
              "      <td>0</td>\n",
              "      <td>0</td>\n",
              "      <td>Business Analyst - Clinical &amp; Logistics Platform</td>\n",
              "      <td>$56K-$102K (Glassdoor est.)</td>\n",
              "      <td>Company Overview\\n\\n\\nAt Memorial Sloan Ketter...</td>\n",
              "      <td>3.9</td>\n",
              "      <td>Memorial Sloan-Kettering\\n3.9</td>\n",
              "      <td>New York, NY</td>\n",
              "      <td>New York, NY</td>\n",
              "      <td>10000+ employees</td>\n",
              "      <td>1884</td>\n",
              "      <td>Nonprofit Organization</td>\n",
              "      <td>Health Care Services &amp; Hospitals</td>\n",
              "      <td>Health Care</td>\n",
              "      <td>$2 to $5 billion (USD)</td>\n",
              "      <td>Mayo Clinic, The Johns Hopkins Hospital, MD An...</td>\n",
              "      <td>-1</td>\n",
              "    </tr>\n",
              "    <tr>\n",
              "      <th>1</th>\n",
              "      <td>1</td>\n",
              "      <td>1</td>\n",
              "      <td>Business Analyst</td>\n",
              "      <td>$56K-$102K (Glassdoor est.)</td>\n",
              "      <td>We are seeking for an energetic and collaborat...</td>\n",
              "      <td>3.8</td>\n",
              "      <td>Paine Schwartz Partners\\n3.8</td>\n",
              "      <td>New York, NY</td>\n",
              "      <td>New York, NY</td>\n",
              "      <td>1 to 50 employees</td>\n",
              "      <td>-1</td>\n",
              "      <td>Company - Private</td>\n",
              "      <td>Venture Capital &amp; Private Equity</td>\n",
              "      <td>Finance</td>\n",
              "      <td>Unknown / Non-Applicable</td>\n",
              "      <td>-1</td>\n",
              "      <td>True</td>\n",
              "    </tr>\n",
              "    <tr>\n",
              "      <th>2</th>\n",
              "      <td>2</td>\n",
              "      <td>2</td>\n",
              "      <td>Data Analyst</td>\n",
              "      <td>$56K-$102K (Glassdoor est.)</td>\n",
              "      <td>For more than a decade, Asembia has been worki...</td>\n",
              "      <td>3.6</td>\n",
              "      <td>Asembia\\n3.6</td>\n",
              "      <td>Florham Park, NJ</td>\n",
              "      <td>Florham Park, NJ</td>\n",
              "      <td>501 to 1000 employees</td>\n",
              "      <td>2004</td>\n",
              "      <td>Company - Private</td>\n",
              "      <td>Biotech &amp; Pharmaceuticals</td>\n",
              "      <td>Biotech &amp; Pharmaceuticals</td>\n",
              "      <td>$5 to $10 million (USD)</td>\n",
              "      <td>-1</td>\n",
              "      <td>-1</td>\n",
              "    </tr>\n",
              "    <tr>\n",
              "      <th>3</th>\n",
              "      <td>3</td>\n",
              "      <td>3</td>\n",
              "      <td>Information Security Analyst, Incident Response</td>\n",
              "      <td>$56K-$102K (Glassdoor est.)</td>\n",
              "      <td>Job Description Summary\\nThe Information Secur...</td>\n",
              "      <td>3.6</td>\n",
              "      <td>BD\\n3.6</td>\n",
              "      <td>Franklin Lakes, NJ</td>\n",
              "      <td>Franklin Lakes, NJ</td>\n",
              "      <td>10000+ employees</td>\n",
              "      <td>1897</td>\n",
              "      <td>Company - Public</td>\n",
              "      <td>Health Care Products Manufacturing</td>\n",
              "      <td>Manufacturing</td>\n",
              "      <td>$10+ billion (USD)</td>\n",
              "      <td>Abbott, Siemens, Baxter</td>\n",
              "      <td>-1</td>\n",
              "    </tr>\n",
              "    <tr>\n",
              "      <th>4</th>\n",
              "      <td>4</td>\n",
              "      <td>4</td>\n",
              "      <td>Analyst - FP&amp;A Global Revenue</td>\n",
              "      <td>$56K-$102K (Glassdoor est.)</td>\n",
              "      <td>Magnite is the world's largest independent sel...</td>\n",
              "      <td>3.4</td>\n",
              "      <td>Rubicon Project\\n3.4</td>\n",
              "      <td>New York, NY</td>\n",
              "      <td>Los Angeles, CA</td>\n",
              "      <td>201 to 500 employees</td>\n",
              "      <td>2007</td>\n",
              "      <td>Company - Public</td>\n",
              "      <td>Internet</td>\n",
              "      <td>Information Technology</td>\n",
              "      <td>$100 to $500 million (USD)</td>\n",
              "      <td>PubMatic, AppNexus, Index Exchange</td>\n",
              "      <td>True</td>\n",
              "    </tr>\n",
              "  </tbody>\n",
              "</table>\n",
              "</div>\n",
              "    <div class=\"colab-df-buttons\">\n",
              "\n",
              "  <div class=\"colab-df-container\">\n",
              "    <button class=\"colab-df-convert\" onclick=\"convertToInteractive('df-fdb4f4ca-6437-4da4-bcb5-f3003fa239e4')\"\n",
              "            title=\"Convert this dataframe to an interactive table.\"\n",
              "            style=\"display:none;\">\n",
              "\n",
              "  <svg xmlns=\"http://www.w3.org/2000/svg\" height=\"24px\" viewBox=\"0 -960 960 960\">\n",
              "    <path d=\"M120-120v-720h720v720H120Zm60-500h600v-160H180v160Zm220 220h160v-160H400v160Zm0 220h160v-160H400v160ZM180-400h160v-160H180v160Zm440 0h160v-160H620v160ZM180-180h160v-160H180v160Zm440 0h160v-160H620v160Z\"/>\n",
              "  </svg>\n",
              "    </button>\n",
              "\n",
              "  <style>\n",
              "    .colab-df-container {\n",
              "      display:flex;\n",
              "      gap: 12px;\n",
              "    }\n",
              "\n",
              "    .colab-df-convert {\n",
              "      background-color: #E8F0FE;\n",
              "      border: none;\n",
              "      border-radius: 50%;\n",
              "      cursor: pointer;\n",
              "      display: none;\n",
              "      fill: #1967D2;\n",
              "      height: 32px;\n",
              "      padding: 0 0 0 0;\n",
              "      width: 32px;\n",
              "    }\n",
              "\n",
              "    .colab-df-convert:hover {\n",
              "      background-color: #E2EBFA;\n",
              "      box-shadow: 0px 1px 2px rgba(60, 64, 67, 0.3), 0px 1px 3px 1px rgba(60, 64, 67, 0.15);\n",
              "      fill: #174EA6;\n",
              "    }\n",
              "\n",
              "    .colab-df-buttons div {\n",
              "      margin-bottom: 4px;\n",
              "    }\n",
              "\n",
              "    [theme=dark] .colab-df-convert {\n",
              "      background-color: #3B4455;\n",
              "      fill: #D2E3FC;\n",
              "    }\n",
              "\n",
              "    [theme=dark] .colab-df-convert:hover {\n",
              "      background-color: #434B5C;\n",
              "      box-shadow: 0px 1px 3px 1px rgba(0, 0, 0, 0.15);\n",
              "      filter: drop-shadow(0px 1px 2px rgba(0, 0, 0, 0.3));\n",
              "      fill: #FFFFFF;\n",
              "    }\n",
              "  </style>\n",
              "\n",
              "    <script>\n",
              "      const buttonEl =\n",
              "        document.querySelector('#df-fdb4f4ca-6437-4da4-bcb5-f3003fa239e4 button.colab-df-convert');\n",
              "      buttonEl.style.display =\n",
              "        google.colab.kernel.accessAllowed ? 'block' : 'none';\n",
              "\n",
              "      async function convertToInteractive(key) {\n",
              "        const element = document.querySelector('#df-fdb4f4ca-6437-4da4-bcb5-f3003fa239e4');\n",
              "        const dataTable =\n",
              "          await google.colab.kernel.invokeFunction('convertToInteractive',\n",
              "                                                    [key], {});\n",
              "        if (!dataTable) return;\n",
              "\n",
              "        const docLinkHtml = 'Like what you see? Visit the ' +\n",
              "          '<a target=\"_blank\" href=https://colab.research.google.com/notebooks/data_table.ipynb>data table notebook</a>'\n",
              "          + ' to learn more about interactive tables.';\n",
              "        element.innerHTML = '';\n",
              "        dataTable['output_type'] = 'display_data';\n",
              "        await google.colab.output.renderOutput(dataTable, element);\n",
              "        const docLink = document.createElement('div');\n",
              "        docLink.innerHTML = docLinkHtml;\n",
              "        element.appendChild(docLink);\n",
              "      }\n",
              "    </script>\n",
              "  </div>\n",
              "\n",
              "\n",
              "<div id=\"df-8d36c357-02a6-4e58-81a4-3da2bfb1cec5\">\n",
              "  <button class=\"colab-df-quickchart\" onclick=\"quickchart('df-8d36c357-02a6-4e58-81a4-3da2bfb1cec5')\"\n",
              "            title=\"Suggest charts\"\n",
              "            style=\"display:none;\">\n",
              "\n",
              "<svg xmlns=\"http://www.w3.org/2000/svg\" height=\"24px\"viewBox=\"0 0 24 24\"\n",
              "     width=\"24px\">\n",
              "    <g>\n",
              "        <path d=\"M19 3H5c-1.1 0-2 .9-2 2v14c0 1.1.9 2 2 2h14c1.1 0 2-.9 2-2V5c0-1.1-.9-2-2-2zM9 17H7v-7h2v7zm4 0h-2V7h2v10zm4 0h-2v-4h2v4z\"/>\n",
              "    </g>\n",
              "</svg>\n",
              "  </button>\n",
              "\n",
              "<style>\n",
              "  .colab-df-quickchart {\n",
              "      --bg-color: #E8F0FE;\n",
              "      --fill-color: #1967D2;\n",
              "      --hover-bg-color: #E2EBFA;\n",
              "      --hover-fill-color: #174EA6;\n",
              "      --disabled-fill-color: #AAA;\n",
              "      --disabled-bg-color: #DDD;\n",
              "  }\n",
              "\n",
              "  [theme=dark] .colab-df-quickchart {\n",
              "      --bg-color: #3B4455;\n",
              "      --fill-color: #D2E3FC;\n",
              "      --hover-bg-color: #434B5C;\n",
              "      --hover-fill-color: #FFFFFF;\n",
              "      --disabled-bg-color: #3B4455;\n",
              "      --disabled-fill-color: #666;\n",
              "  }\n",
              "\n",
              "  .colab-df-quickchart {\n",
              "    background-color: var(--bg-color);\n",
              "    border: none;\n",
              "    border-radius: 50%;\n",
              "    cursor: pointer;\n",
              "    display: none;\n",
              "    fill: var(--fill-color);\n",
              "    height: 32px;\n",
              "    padding: 0;\n",
              "    width: 32px;\n",
              "  }\n",
              "\n",
              "  .colab-df-quickchart:hover {\n",
              "    background-color: var(--hover-bg-color);\n",
              "    box-shadow: 0 1px 2px rgba(60, 64, 67, 0.3), 0 1px 3px 1px rgba(60, 64, 67, 0.15);\n",
              "    fill: var(--button-hover-fill-color);\n",
              "  }\n",
              "\n",
              "  .colab-df-quickchart-complete:disabled,\n",
              "  .colab-df-quickchart-complete:disabled:hover {\n",
              "    background-color: var(--disabled-bg-color);\n",
              "    fill: var(--disabled-fill-color);\n",
              "    box-shadow: none;\n",
              "  }\n",
              "\n",
              "  .colab-df-spinner {\n",
              "    border: 2px solid var(--fill-color);\n",
              "    border-color: transparent;\n",
              "    border-bottom-color: var(--fill-color);\n",
              "    animation:\n",
              "      spin 1s steps(1) infinite;\n",
              "  }\n",
              "\n",
              "  @keyframes spin {\n",
              "    0% {\n",
              "      border-color: transparent;\n",
              "      border-bottom-color: var(--fill-color);\n",
              "      border-left-color: var(--fill-color);\n",
              "    }\n",
              "    20% {\n",
              "      border-color: transparent;\n",
              "      border-left-color: var(--fill-color);\n",
              "      border-top-color: var(--fill-color);\n",
              "    }\n",
              "    30% {\n",
              "      border-color: transparent;\n",
              "      border-left-color: var(--fill-color);\n",
              "      border-top-color: var(--fill-color);\n",
              "      border-right-color: var(--fill-color);\n",
              "    }\n",
              "    40% {\n",
              "      border-color: transparent;\n",
              "      border-right-color: var(--fill-color);\n",
              "      border-top-color: var(--fill-color);\n",
              "    }\n",
              "    60% {\n",
              "      border-color: transparent;\n",
              "      border-right-color: var(--fill-color);\n",
              "    }\n",
              "    80% {\n",
              "      border-color: transparent;\n",
              "      border-right-color: var(--fill-color);\n",
              "      border-bottom-color: var(--fill-color);\n",
              "    }\n",
              "    90% {\n",
              "      border-color: transparent;\n",
              "      border-bottom-color: var(--fill-color);\n",
              "    }\n",
              "  }\n",
              "</style>\n",
              "\n",
              "  <script>\n",
              "    async function quickchart(key) {\n",
              "      const quickchartButtonEl =\n",
              "        document.querySelector('#' + key + ' button');\n",
              "      quickchartButtonEl.disabled = true;  // To prevent multiple clicks.\n",
              "      quickchartButtonEl.classList.add('colab-df-spinner');\n",
              "      try {\n",
              "        const charts = await google.colab.kernel.invokeFunction(\n",
              "            'suggestCharts', [key], {});\n",
              "      } catch (error) {\n",
              "        console.error('Error during call to suggestCharts:', error);\n",
              "      }\n",
              "      quickchartButtonEl.classList.remove('colab-df-spinner');\n",
              "      quickchartButtonEl.classList.add('colab-df-quickchart-complete');\n",
              "    }\n",
              "    (() => {\n",
              "      let quickchartButtonEl =\n",
              "        document.querySelector('#df-8d36c357-02a6-4e58-81a4-3da2bfb1cec5 button');\n",
              "      quickchartButtonEl.style.display =\n",
              "        google.colab.kernel.accessAllowed ? 'block' : 'none';\n",
              "    })();\n",
              "  </script>\n",
              "</div>\n",
              "\n",
              "    </div>\n",
              "  </div>\n"
            ],
            "application/vnd.google.colaboratory.intrinsic+json": {
              "type": "dataframe",
              "variable_name": "df",
              "summary": "{\n  \"name\": \"df\",\n  \"rows\": 4092,\n  \"fields\": [\n    {\n      \"column\": \"Unnamed: 0\",\n      \"properties\": {\n        \"dtype\": \"string\",\n        \"num_unique_values\": 3962,\n        \"samples\": [\n          \"149\",\n          \"1025\",\n          \"1288\"\n        ],\n        \"semantic_type\": \"\",\n        \"description\": \"\"\n      }\n    },\n    {\n      \"column\": \"index\",\n      \"properties\": {\n        \"dtype\": \"string\",\n        \"num_unique_values\": 3706,\n        \"samples\": [\n          \"3692\",\n          \"1293\",\n          \"2450\"\n        ],\n        \"semantic_type\": \"\",\n        \"description\": \"\"\n      }\n    },\n    {\n      \"column\": \"Job Title\",\n      \"properties\": {\n        \"dtype\": \"string\",\n        \"num_unique_values\": 2210,\n        \"samples\": [\n          \"Business Systems Analyst - SAP Plant Maintenance\",\n          \"Business Analyst- Manufacturing Domain\",\n          \"Business Systems Analyst I (BBSA1)\"\n        ],\n        \"semantic_type\": \"\",\n        \"description\": \"\"\n      }\n    },\n    {\n      \"column\": \"Salary Estimate\",\n      \"properties\": {\n        \"dtype\": \"category\",\n        \"num_unique_values\": 167,\n        \"samples\": [\n          \"$70K-$172K (Glassdoor est.)\",\n          \"$47K-$88K (Glassdoor est.)\",\n          \"$53K-$102K (Glassdoor est.)\"\n        ],\n        \"semantic_type\": \"\",\n        \"description\": \"\"\n      }\n    },\n    {\n      \"column\": \"Job Description\",\n      \"properties\": {\n        \"dtype\": \"string\",\n        \"num_unique_values\": 3732,\n        \"samples\": [\n          \"Job Description\\nA Fortune 500 client is looking for a Junior Business Analyst who could get started at the earliest and this could be just you fitting the role.\\n\\nResponsibilities:\\nGather requirements from internal stakeholders through meeting facilitation and/or one-on-one discussions to define and document requirements for software products or services.\\nCreates documentation including requirements, user stories, acceptance criteria, feature description slide decks, user guides, process flows, wireframes, and one pagers.\\nEngages with stakeholders to respond to requests for new applications and/or enhancements.\\nParticipates in reviews of plans associated with project execution.\\nExceptional analytical, problem-solving, and conceptual skills.\\nGather business and technical requirements for application modifications and enhancements\\nDesired Qualifications:\\nMaster\\u2019s Degree related to Information Technology\\nAcademic projects experience\\nStrong experience in Microsoft Excel, MS Visio, Tableau, SQL\\nExceptional interpersonal, communication and presentation skills\\nStrong analytical skills\\nStrong problem solving and decision-making skills\\nBasic knowledge in generating process documentation\\nStrong attention to details\\nAbility to work both independently and as a member of the team\\nPowered by JazzHR\\n\\n0tbyUzLtA7\",\n          \"Job Description\\nAutomotive eCommerce Data Analyst\\n\\nThe Company\\n\\nWeb Shop Manager, located in sunny San Diego, is the world\\u2019s leading eCommerce solution for the automotive industry. With 20 years of direct industry experience, we have helped over a thousand businesses worldwide. We are committed to our customers' success and with our 99% customer retention rate we must be doing something right.\\n\\nThe Position\\n\\nThis is a remote position, regardless if there is a global pandemic. #LowRiskCovid19 We do meet up a few times a year, but primarily we use Slack to communicate and Wrike to manage our projects. You'll work directly with our data lead who will provide comprehensive one-on-one training to ensure you're comfortable with our software and processes.\\n\\nThe bulk of this position revolves around enriching product content. This can be anything from categorizing products to stitching together data from various sources. Broad knowledge of the automotive industry is essential to the success of this position.\\n\\nRequirements\\nBroad Automotive Knowledge Required\\nEntry-Intermediate level Excel skills (able to manipulate basic product data)\\nExcellent listening, verbal and written communication skills\\nBonus Points\\neCommerce product data experience is a plus\\nACES/PIES experience is a major plus\\nthis is a remote position\",\n          \"Job Title Business Analyst Location Fort Washington Primary Function The Business Analyst II analyzes the business need, defines the best solution, and facilitates the successful implementation of complex solutions through hands-on work, interfacing with development resources and creating other materials to support the process. The Business Analyst II may also have some supervisory and leadership responsibilities within the Enterprise Execution Team. Principal Duties Transform the business and IT by rapidly delivering the best designed solutions as prioritized by the companyrsquos strategic and productivity goals Organizes and plans the best approach to the business need and guides the business and IT in achieving the best solution including management of complex projects with multiple points of integration and risks Conceptually engineer solutions in a variety of systems, platforms and tools ndash choosing the right option for the problem by balancing complexities, risks, speed-to-market and other factors Brings depth of mortgage subject matter expertise, technical knowledge and analytical skills to all tasks and projects Compiles complex situations, problems, systems and solutions into clear communication and materials for a variety of audiences and levels across the executive, technical, and business teams Enterprise analysis activities ndash major contributor in project review and prioritization process ndash providing key insight to possible solutions, downstream impacts, risks, and level-of-effort cost Leads the analysis and documentation on the business need impacts other systems and processes and plansorganizes work for others Performs complex data collection and analysis needed to compile cost-benefit analysis as part of the project rationalization Leader in writing use cases, specifications, business requirements and test conditions along with needed process flows and works with the stakeholders to reach approval Performs hands-on development efforts using rapid application development (citizen developer) frameworks for prototype, testing or production use Own and manage large pipeline of complex projects while maintaining rapid pace of deliverables and solutions Research and gain insight into regulatory changes and requirements that impact the business Education and Experience Requirements Bachelorrsquos degree or equivalent preferred 4+ years of combined experience in mortgage or IT supporting mortgage originations Knowledge, Skill and Ability Requirements Understanding and proven experience applying knowledge of downstream and upstream impacts and risks (such as regulatorycompliance concerns, capital marketspooling considerations) in a mortgage origination business Able to quickly learn, access complex problems and conceptualize solutions to be deployed through technology or process improvements Creative problem-solver who combines analytical skills with technical proficiencies to deliver quality results Driven and self-motivated, must be able to provide large output working independently as well as part of team Performs well in a fast paced team environment and managedrive multiple requests to successful completion in a prompt and professional manner while communicating issuestatus to appropriate stakeholders Skilled in using Software Development Lifecycle (SDLC), utilizing portions from both Waterfall and Agile methodologies Proven track record of delivering complex projects and documentsrequestschanges combined with the ability to be proactive in identifying opportunities for the process and systems changes along with requirements traceability Proven ability to effectively leadmanagedrive requirementrequest meetings, across various business units, with no management oversight needed Proven ability to clearly articulate, effectively author and present complex requirement documents, including the benefit analysis, both verbally and written Ability to act as effective leader betweenamong business departments, senior management and ITconsultantstechnology Ability to manageparticipatelead user acceptance testing and provide training on the new featureprocess Ability to multi-task and adapt to shifting priorities, demands and tight timelines using analytical and problem-solving skills Proven ability in authoring and analyzing lsquoProcess Flowrsquo diagrams ndash knowledge and experience working in Blue Works is a plus Enjoy learning and working in a challengingchanging environment\"\n        ],\n        \"semantic_type\": \"\",\n        \"description\": \"\"\n      }\n    },\n    {\n      \"column\": \"Rating\",\n      \"properties\": {\n        \"dtype\": \"category\",\n        \"num_unique_values\": 41,\n        \"samples\": [\n          \"2.9\",\n          \"3.5\",\n          \"3.7\"\n        ],\n        \"semantic_type\": \"\",\n        \"description\": \"\"\n      }\n    },\n    {\n      \"column\": \"Company Name\",\n      \"properties\": {\n        \"dtype\": \"string\",\n        \"num_unique_values\": 2197,\n        \"samples\": [\n          \"MedPOINT Management\\n3.0\",\n          \"MILESTONE Technologies, Inc\\n3.2\",\n          \"Northeast Community Clinics\\n3.0\"\n        ],\n        \"semantic_type\": \"\",\n        \"description\": \"\"\n      }\n    },\n    {\n      \"column\": \"Location\",\n      \"properties\": {\n        \"dtype\": \"category\",\n        \"num_unique_values\": 218,\n        \"samples\": [\n          \"Stickney, IL\",\n          \"5001 to 10000 employees\",\n          \"West Chester, PA\"\n        ],\n        \"semantic_type\": \"\",\n        \"description\": \"\"\n      }\n    },\n    {\n      \"column\": \"Headquarters\",\n      \"properties\": {\n        \"dtype\": \"category\",\n        \"num_unique_values\": 625,\n        \"samples\": [\n          \"Valparaiso, IN\",\n          \"Nokia, Finland\",\n          \"Downey, CA\"\n        ],\n        \"semantic_type\": \"\",\n        \"description\": \"\"\n      }\n    },\n    {\n      \"column\": \"Size\",\n      \"properties\": {\n        \"dtype\": \"category\",\n        \"num_unique_values\": 17,\n        \"samples\": [\n          \"10000+ employees\",\n          \"1 to 50 employees\",\n          \"51 to 200 employees\"\n        ],\n        \"semantic_type\": \"\",\n        \"description\": \"\"\n      }\n    },\n    {\n      \"column\": \"Founded\",\n      \"properties\": {\n        \"dtype\": \"category\",\n        \"num_unique_values\": 212,\n        \"samples\": [\n          \"1971\",\n          \"1903\",\n          \"1943\"\n        ],\n        \"semantic_type\": \"\",\n        \"description\": \"\"\n      }\n    },\n    {\n      \"column\": \"Type of ownership\",\n      \"properties\": {\n        \"dtype\": \"category\",\n        \"num_unique_values\": 33,\n        \"samples\": [\n          \"Telecommunications\",\n          \"Finance\",\n          \"Non-Profit\"\n        ],\n        \"semantic_type\": \"\",\n        \"description\": \"\"\n      }\n    },\n    {\n      \"column\": \"Industry\",\n      \"properties\": {\n        \"dtype\": \"category\",\n        \"num_unique_values\": 110,\n        \"samples\": [\n          \"Sporting Goods Stores\",\n          \"Enterprise Software & Network Solutions\",\n          \"Internet\"\n        ],\n        \"semantic_type\": \"\",\n        \"description\": \"\"\n      }\n    },\n    {\n      \"column\": \"Sector\",\n      \"properties\": {\n        \"dtype\": \"category\",\n        \"num_unique_values\": 63,\n        \"samples\": [\n          \"J.P. Morgan, Bank of America\",\n          \"PwC, Deloitte, EY\",\n          \"Health Care\"\n        ],\n        \"semantic_type\": \"\",\n        \"description\": \"\"\n      }\n    },\n    {\n      \"column\": \"Revenue\",\n      \"properties\": {\n        \"dtype\": \"category\",\n        \"num_unique_values\": 15,\n        \"samples\": [\n          \"$10 to $25 million (USD)\",\n          \"$1 to $5 million (USD)\",\n          \"$2 to $5 billion (USD)\"\n        ],\n        \"semantic_type\": \"\",\n        \"description\": \"\"\n      }\n    },\n    {\n      \"column\": \"Competitors\",\n      \"properties\": {\n        \"dtype\": \"category\",\n        \"num_unique_values\": 472,\n        \"samples\": [\n          \"Thomson Reuters, International Data Group\",\n          \"TrueCar, Cars.com, Kelley Blue Book\",\n          \"Tata Consultancy Services, Accenture, Capgemini\"\n        ],\n        \"semantic_type\": \"\",\n        \"description\": \"\"\n      }\n    },\n    {\n      \"column\": \"Easy Apply\",\n      \"properties\": {\n        \"dtype\": \"category\",\n        \"num_unique_values\": 2,\n        \"samples\": [\n          \"True\",\n          \"-1\"\n        ],\n        \"semantic_type\": \"\",\n        \"description\": \"\"\n      }\n    }\n  ]\n}"
            }
          },
          "metadata": {},
          "execution_count": 6
        }
      ],
      "execution_count": null
    },
    {
      "cell_type": "code",
      "source": [
        "#Remove the first column, set_index as index\n",
        "df.set_index('index')\n",
        "df.drop(columns='Unnamed: 0',inplace=True)"
      ],
      "metadata": {
        "trusted": true,
        "execution": {
          "iopub.status.busy": "2025-04-22T10:12:12.634145Z",
          "iopub.execute_input": "2025-04-22T10:12:12.635081Z",
          "iopub.status.idle": "2025-04-22T10:12:12.652062Z",
          "shell.execute_reply.started": "2025-04-22T10:12:12.635048Z",
          "shell.execute_reply": "2025-04-22T10:12:12.650623Z"
        },
        "_kg_hide-output": true,
        "id": "9YGRk9YVEXYW"
      },
      "outputs": [],
      "execution_count": null
    },
    {
      "cell_type": "markdown",
      "source": [
        "# Cleaning data"
      ],
      "metadata": {
        "id": "qim_RynSEXYX"
      }
    },
    {
      "cell_type": "code",
      "source": [
        "df.isna().sum()"
      ],
      "metadata": {
        "trusted": true,
        "execution": {
          "iopub.status.busy": "2025-04-22T10:12:12.672925Z",
          "iopub.execute_input": "2025-04-22T10:12:12.67326Z",
          "iopub.status.idle": "2025-04-22T10:12:12.69715Z",
          "shell.execute_reply.started": "2025-04-22T10:12:12.673234Z",
          "shell.execute_reply": "2025-04-22T10:12:12.696229Z"
        },
        "id": "wX0W6L2xEXYY",
        "outputId": "20c540b8-239a-40d0-f761-d2fabd48bfbb",
        "colab": {
          "base_uri": "https://localhost:8080/",
          "height": 585
        }
      },
      "outputs": [
        {
          "output_type": "execute_result",
          "data": {
            "text/plain": [
              "index                  0\n",
              "Job Title              0\n",
              "Salary Estimate        0\n",
              "Job Description        0\n",
              "Rating                 0\n",
              "Company Name           0\n",
              "Location               0\n",
              "Headquarters           0\n",
              "Size                   0\n",
              "Founded                0\n",
              "Type of ownership      0\n",
              "Industry               0\n",
              "Sector                 0\n",
              "Revenue                0\n",
              "Competitors          400\n",
              "Easy Apply           400\n",
              "dtype: int64"
            ],
            "text/html": [
              "<div>\n",
              "<style scoped>\n",
              "    .dataframe tbody tr th:only-of-type {\n",
              "        vertical-align: middle;\n",
              "    }\n",
              "\n",
              "    .dataframe tbody tr th {\n",
              "        vertical-align: top;\n",
              "    }\n",
              "\n",
              "    .dataframe thead th {\n",
              "        text-align: right;\n",
              "    }\n",
              "</style>\n",
              "<table border=\"1\" class=\"dataframe\">\n",
              "  <thead>\n",
              "    <tr style=\"text-align: right;\">\n",
              "      <th></th>\n",
              "      <th>0</th>\n",
              "    </tr>\n",
              "  </thead>\n",
              "  <tbody>\n",
              "    <tr>\n",
              "      <th>index</th>\n",
              "      <td>0</td>\n",
              "    </tr>\n",
              "    <tr>\n",
              "      <th>Job Title</th>\n",
              "      <td>0</td>\n",
              "    </tr>\n",
              "    <tr>\n",
              "      <th>Salary Estimate</th>\n",
              "      <td>0</td>\n",
              "    </tr>\n",
              "    <tr>\n",
              "      <th>Job Description</th>\n",
              "      <td>0</td>\n",
              "    </tr>\n",
              "    <tr>\n",
              "      <th>Rating</th>\n",
              "      <td>0</td>\n",
              "    </tr>\n",
              "    <tr>\n",
              "      <th>Company Name</th>\n",
              "      <td>0</td>\n",
              "    </tr>\n",
              "    <tr>\n",
              "      <th>Location</th>\n",
              "      <td>0</td>\n",
              "    </tr>\n",
              "    <tr>\n",
              "      <th>Headquarters</th>\n",
              "      <td>0</td>\n",
              "    </tr>\n",
              "    <tr>\n",
              "      <th>Size</th>\n",
              "      <td>0</td>\n",
              "    </tr>\n",
              "    <tr>\n",
              "      <th>Founded</th>\n",
              "      <td>0</td>\n",
              "    </tr>\n",
              "    <tr>\n",
              "      <th>Type of ownership</th>\n",
              "      <td>0</td>\n",
              "    </tr>\n",
              "    <tr>\n",
              "      <th>Industry</th>\n",
              "      <td>0</td>\n",
              "    </tr>\n",
              "    <tr>\n",
              "      <th>Sector</th>\n",
              "      <td>0</td>\n",
              "    </tr>\n",
              "    <tr>\n",
              "      <th>Revenue</th>\n",
              "      <td>0</td>\n",
              "    </tr>\n",
              "    <tr>\n",
              "      <th>Competitors</th>\n",
              "      <td>400</td>\n",
              "    </tr>\n",
              "    <tr>\n",
              "      <th>Easy Apply</th>\n",
              "      <td>400</td>\n",
              "    </tr>\n",
              "  </tbody>\n",
              "</table>\n",
              "</div><br><label><b>dtype:</b> int64</label>"
            ]
          },
          "metadata": {},
          "execution_count": 8
        }
      ],
      "execution_count": null
    },
    {
      "cell_type": "markdown",
      "source": [
        "Easy Apply null values could be understand as Not allow for easy apply  \n",
        "Competitors null values were potentially missing"
      ],
      "metadata": {
        "id": "3jL3cu6KEXYY"
      }
    },
    {
      "cell_type": "code",
      "source": [
        "df.duplicated().sum()"
      ],
      "metadata": {
        "trusted": true,
        "execution": {
          "iopub.status.busy": "2025-04-22T10:12:12.698258Z",
          "iopub.execute_input": "2025-04-22T10:12:12.69864Z",
          "iopub.status.idle": "2025-04-22T10:12:12.763714Z",
          "shell.execute_reply.started": "2025-04-22T10:12:12.698612Z",
          "shell.execute_reply": "2025-04-22T10:12:12.762107Z"
        },
        "id": "sGTgnIGEEXYY",
        "outputId": "a18c5d2f-080e-4a7d-f023-43b3be91e62d",
        "colab": {
          "base_uri": "https://localhost:8080/"
        }
      },
      "outputs": [
        {
          "output_type": "execute_result",
          "data": {
            "text/plain": [
              "np.int64(0)"
            ]
          },
          "metadata": {},
          "execution_count": 9
        }
      ],
      "execution_count": null
    },
    {
      "cell_type": "markdown",
      "source": [
        "There's no duplicated value"
      ],
      "metadata": {
        "id": "Ti1jIq7iEXYZ"
      }
    },
    {
      "cell_type": "markdown",
      "source": [
        "# Check for data format error"
      ],
      "metadata": {
        "id": "hL1QuYumEXYZ"
      }
    },
    {
      "cell_type": "markdown",
      "source": [
        "## Engineering Salary Estimate"
      ],
      "metadata": {
        "id": "tW9jeqVhEXYZ"
      }
    },
    {
      "cell_type": "code",
      "source": [
        "index = df[df['Salary Estimate'].str.len()<10].index\n",
        "df.loc[index,:] = df.loc[index,:].apply(lambda row: row.shift(2), axis=1)"
      ],
      "metadata": {
        "trusted": true,
        "execution": {
          "iopub.status.busy": "2025-04-22T10:12:12.764773Z",
          "iopub.execute_input": "2025-04-22T10:12:12.765013Z",
          "iopub.status.idle": "2025-04-22T10:12:12.796217Z",
          "shell.execute_reply.started": "2025-04-22T10:12:12.764986Z",
          "shell.execute_reply": "2025-04-22T10:12:12.79496Z"
        },
        "id": "BS0gJ4JnEXYZ"
      },
      "outputs": [],
      "execution_count": null
    },
    {
      "cell_type": "code",
      "source": [
        "pattern = r\"\\$(\\d+)K-\\$(\\d+)K\\s+\\(Glassdoor est\\.\\)\"\n",
        "\n",
        "df[['Salary Estimate_Min','Salary Estimate_Max']]= df['Salary Estimate'].str.extract(pattern)"
      ],
      "metadata": {
        "trusted": true,
        "execution": {
          "iopub.status.busy": "2025-04-22T10:12:12.797501Z",
          "iopub.execute_input": "2025-04-22T10:12:12.797836Z",
          "iopub.status.idle": "2025-04-22T10:12:12.810697Z",
          "shell.execute_reply.started": "2025-04-22T10:12:12.797806Z",
          "shell.execute_reply": "2025-04-22T10:12:12.809918Z"
        },
        "id": "T-qEweLcEXYZ"
      },
      "outputs": [],
      "execution_count": null
    },
    {
      "cell_type": "markdown",
      "source": [
        "## Rating"
      ],
      "metadata": {
        "id": "aguzcOy2EXYa"
      }
    },
    {
      "cell_type": "code",
      "source": [
        "df['Rating'] = pd.to_numeric(df['Rating'], errors='coerce')"
      ],
      "metadata": {
        "trusted": true,
        "execution": {
          "iopub.status.busy": "2025-04-22T10:12:12.811458Z",
          "iopub.execute_input": "2025-04-22T10:12:12.811645Z",
          "iopub.status.idle": "2025-04-22T10:12:12.836689Z",
          "shell.execute_reply.started": "2025-04-22T10:12:12.81163Z",
          "shell.execute_reply": "2025-04-22T10:12:12.8353Z"
        },
        "id": "xOSO-d1SEXYa"
      },
      "outputs": [],
      "execution_count": null
    },
    {
      "cell_type": "code",
      "source": [
        "#impute -1 value\n",
        "index = df[df['Rating'] == -1].index\n",
        "df.loc[index,'Rating'] = df['Rating'].median()"
      ],
      "metadata": {
        "trusted": true,
        "execution": {
          "iopub.status.busy": "2025-04-22T10:12:12.840086Z",
          "iopub.execute_input": "2025-04-22T10:12:12.8404Z",
          "iopub.status.idle": "2025-04-22T10:12:12.857329Z",
          "shell.execute_reply.started": "2025-04-22T10:12:12.840381Z",
          "shell.execute_reply": "2025-04-22T10:12:12.856407Z"
        },
        "id": "_dWWoiHFEXYa"
      },
      "outputs": [],
      "execution_count": null
    },
    {
      "cell_type": "markdown",
      "source": [
        "## Company Name"
      ],
      "metadata": {
        "id": "eZF3g8BvEXYa"
      }
    },
    {
      "cell_type": "code",
      "source": [
        "#text handle\n",
        "df['Company Name'] = df['Company Name'].str.split(\"\\n\",expand=True)[0]"
      ],
      "metadata": {
        "trusted": true,
        "execution": {
          "iopub.status.busy": "2025-04-22T10:12:12.858019Z",
          "iopub.execute_input": "2025-04-22T10:12:12.858283Z",
          "iopub.status.idle": "2025-04-22T10:12:12.880195Z",
          "shell.execute_reply.started": "2025-04-22T10:12:12.858264Z",
          "shell.execute_reply": "2025-04-22T10:12:12.878765Z"
        },
        "id": "s-iPnw-4EXYa"
      },
      "outputs": [],
      "execution_count": null
    },
    {
      "cell_type": "markdown",
      "source": [
        "## Location"
      ],
      "metadata": {
        "id": "j088wsTjEXYa"
      }
    },
    {
      "cell_type": "code",
      "source": [
        "df['Location'].value_counts()"
      ],
      "metadata": {
        "trusted": true,
        "execution": {
          "iopub.status.busy": "2025-04-22T10:12:12.881149Z",
          "iopub.execute_input": "2025-04-22T10:12:12.881463Z",
          "iopub.status.idle": "2025-04-22T10:12:12.905041Z",
          "shell.execute_reply.started": "2025-04-22T10:12:12.881435Z",
          "shell.execute_reply": "2025-04-22T10:12:12.903265Z"
        },
        "id": "onbnEKYGEXYa",
        "outputId": "74120872-8b10-494f-ff69-2ed0dcc7b91e",
        "colab": {
          "base_uri": "https://localhost:8080/",
          "height": 489
        }
      },
      "outputs": [
        {
          "output_type": "execute_result",
          "data": {
            "text/plain": [
              "Location\n",
              "Jacksonville, FL          392\n",
              "San Diego, CA             348\n",
              "Houston, TX               340\n",
              "Austin, TX                331\n",
              "San Antonio, TX           325\n",
              "                         ... \n",
              "West Menlo Park, CA         1\n",
              "Ponte Vedra Beach, FL       1\n",
              "Mayport, FL                 1\n",
              "Jacksonville Beach, FL      1\n",
              "Fleming Island, FL          1\n",
              "Name: count, Length: 215, dtype: int64"
            ],
            "text/html": [
              "<div>\n",
              "<style scoped>\n",
              "    .dataframe tbody tr th:only-of-type {\n",
              "        vertical-align: middle;\n",
              "    }\n",
              "\n",
              "    .dataframe tbody tr th {\n",
              "        vertical-align: top;\n",
              "    }\n",
              "\n",
              "    .dataframe thead th {\n",
              "        text-align: right;\n",
              "    }\n",
              "</style>\n",
              "<table border=\"1\" class=\"dataframe\">\n",
              "  <thead>\n",
              "    <tr style=\"text-align: right;\">\n",
              "      <th></th>\n",
              "      <th>count</th>\n",
              "    </tr>\n",
              "    <tr>\n",
              "      <th>Location</th>\n",
              "      <th></th>\n",
              "    </tr>\n",
              "  </thead>\n",
              "  <tbody>\n",
              "    <tr>\n",
              "      <th>Jacksonville, FL</th>\n",
              "      <td>392</td>\n",
              "    </tr>\n",
              "    <tr>\n",
              "      <th>San Diego, CA</th>\n",
              "      <td>348</td>\n",
              "    </tr>\n",
              "    <tr>\n",
              "      <th>Houston, TX</th>\n",
              "      <td>340</td>\n",
              "    </tr>\n",
              "    <tr>\n",
              "      <th>Austin, TX</th>\n",
              "      <td>331</td>\n",
              "    </tr>\n",
              "    <tr>\n",
              "      <th>San Antonio, TX</th>\n",
              "      <td>325</td>\n",
              "    </tr>\n",
              "    <tr>\n",
              "      <th>...</th>\n",
              "      <td>...</td>\n",
              "    </tr>\n",
              "    <tr>\n",
              "      <th>West Menlo Park, CA</th>\n",
              "      <td>1</td>\n",
              "    </tr>\n",
              "    <tr>\n",
              "      <th>Ponte Vedra Beach, FL</th>\n",
              "      <td>1</td>\n",
              "    </tr>\n",
              "    <tr>\n",
              "      <th>Mayport, FL</th>\n",
              "      <td>1</td>\n",
              "    </tr>\n",
              "    <tr>\n",
              "      <th>Jacksonville Beach, FL</th>\n",
              "      <td>1</td>\n",
              "    </tr>\n",
              "    <tr>\n",
              "      <th>Fleming Island, FL</th>\n",
              "      <td>1</td>\n",
              "    </tr>\n",
              "  </tbody>\n",
              "</table>\n",
              "<p>215 rows × 1 columns</p>\n",
              "</div><br><label><b>dtype:</b> int64</label>"
            ]
          },
          "metadata": {},
          "execution_count": 15
        }
      ],
      "execution_count": null
    },
    {
      "cell_type": "markdown",
      "source": [
        "## Size"
      ],
      "metadata": {
        "id": "7x3DPkcNEXYb"
      }
    },
    {
      "cell_type": "code",
      "source": [
        "df['Size'] = df['Size'].astype(str)\n",
        "df['Size'] = np.where((df['Size'] == '-1') | (df['Size'] == 'Unknown'),\n",
        "                      'Unknown',\n",
        "                      df['Size'])"
      ],
      "metadata": {
        "trusted": true,
        "execution": {
          "iopub.status.busy": "2025-04-22T10:12:12.907095Z",
          "iopub.execute_input": "2025-04-22T10:12:12.907914Z",
          "iopub.status.idle": "2025-04-22T10:12:12.926539Z",
          "shell.execute_reply.started": "2025-04-22T10:12:12.907873Z",
          "shell.execute_reply": "2025-04-22T10:12:12.925232Z"
        },
        "id": "yRUWFE3HEXYb"
      },
      "outputs": [],
      "execution_count": null
    },
    {
      "cell_type": "markdown",
      "source": [
        "## Founded"
      ],
      "metadata": {
        "id": "gnhStCujEXYb"
      }
    },
    {
      "cell_type": "code",
      "source": [
        "df['Founded'] = pd.to_numeric(df['Founded'])\n",
        "df['Founded'] = np.where(df['Founded']==-1,\n",
        "                        'Unknown',\n",
        "                        df['Founded'])"
      ],
      "metadata": {
        "trusted": true,
        "execution": {
          "iopub.status.busy": "2025-04-22T10:12:12.92764Z",
          "iopub.execute_input": "2025-04-22T10:12:12.927893Z",
          "iopub.status.idle": "2025-04-22T10:12:12.953943Z",
          "shell.execute_reply.started": "2025-04-22T10:12:12.92787Z",
          "shell.execute_reply": "2025-04-22T10:12:12.953308Z"
        },
        "id": "YMaCwKyAEXYb"
      },
      "outputs": [],
      "execution_count": null
    },
    {
      "cell_type": "markdown",
      "source": [
        "## Type of ownership"
      ],
      "metadata": {
        "id": "ckseMR9IEXYb"
      }
    },
    {
      "cell_type": "code",
      "source": [
        "df['Type of ownership'] = np.where(df['Type of ownership']=='-1',\n",
        "                                  'Unknown',\n",
        "                                  df['Type of ownership'])"
      ],
      "metadata": {
        "trusted": true,
        "execution": {
          "iopub.status.busy": "2025-04-22T10:12:12.954658Z",
          "iopub.execute_input": "2025-04-22T10:12:12.954877Z",
          "iopub.status.idle": "2025-04-22T10:12:12.974012Z",
          "shell.execute_reply.started": "2025-04-22T10:12:12.954861Z",
          "shell.execute_reply": "2025-04-22T10:12:12.972362Z"
        },
        "id": "a1buxIp5EXYb"
      },
      "outputs": [],
      "execution_count": null
    },
    {
      "cell_type": "markdown",
      "source": [
        "## Industry"
      ],
      "metadata": {
        "id": "C1ErIh6vEXYb"
      }
    },
    {
      "cell_type": "code",
      "source": [
        "df['Industry'] = np.where(df['Industry']=='-1',\n",
        "                         'Unknown',\n",
        "                         df['Industry'])"
      ],
      "metadata": {
        "trusted": true,
        "execution": {
          "iopub.status.busy": "2025-04-22T10:12:12.97562Z",
          "iopub.execute_input": "2025-04-22T10:12:12.975951Z",
          "iopub.status.idle": "2025-04-22T10:12:13.001502Z",
          "shell.execute_reply.started": "2025-04-22T10:12:12.975927Z",
          "shell.execute_reply": "2025-04-22T10:12:12.999446Z"
        },
        "id": "ZajlIUINEXYb"
      },
      "outputs": [],
      "execution_count": null
    },
    {
      "cell_type": "markdown",
      "source": [
        "## Sector"
      ],
      "metadata": {
        "id": "Y8-P2Js-EXYc"
      }
    },
    {
      "cell_type": "code",
      "source": [
        "df['Sector'] = np.where(df['Sector']==\"-1\",\n",
        "                       'Unknown',\n",
        "                       df['Sector'])"
      ],
      "metadata": {
        "trusted": true,
        "execution": {
          "iopub.status.busy": "2025-04-22T10:12:13.002963Z",
          "iopub.execute_input": "2025-04-22T10:12:13.003315Z",
          "iopub.status.idle": "2025-04-22T10:12:13.032117Z",
          "shell.execute_reply.started": "2025-04-22T10:12:13.003293Z",
          "shell.execute_reply": "2025-04-22T10:12:13.03106Z"
        },
        "id": "j9Soj3bAEXYc"
      },
      "outputs": [],
      "execution_count": null
    },
    {
      "cell_type": "markdown",
      "source": [
        "## Revenue"
      ],
      "metadata": {
        "id": "wOsSMrn2EXYc"
      }
    },
    {
      "cell_type": "code",
      "source": [
        "df['Revenue'] = np.where(df['Revenue']=='-1',\n",
        "                        'Unknown / Non-Applicable',\n",
        "                        df['Revenue'])"
      ],
      "metadata": {
        "trusted": true,
        "execution": {
          "iopub.status.busy": "2025-04-22T10:12:13.034587Z",
          "iopub.execute_input": "2025-04-22T10:12:13.035831Z",
          "iopub.status.idle": "2025-04-22T10:12:13.058118Z",
          "shell.execute_reply.started": "2025-04-22T10:12:13.03575Z",
          "shell.execute_reply": "2025-04-22T10:12:13.056702Z"
        },
        "id": "g6JwjWRlEXYc"
      },
      "outputs": [],
      "execution_count": null
    },
    {
      "cell_type": "markdown",
      "source": [
        "## Job description"
      ],
      "metadata": {
        "id": "6YnPvAk9EXYc"
      }
    },
    {
      "cell_type": "code",
      "source": [
        "#Preprocessing text data\n",
        "import spacy\n",
        "import re\n",
        "nlp = spacy.load('en_core_web_sm')"
      ],
      "metadata": {
        "trusted": true,
        "execution": {
          "iopub.status.busy": "2025-04-22T10:12:13.059151Z",
          "iopub.execute_input": "2025-04-22T10:12:13.059459Z",
          "iopub.status.idle": "2025-04-22T10:12:13.583378Z",
          "shell.execute_reply.started": "2025-04-22T10:12:13.059434Z",
          "shell.execute_reply": "2025-04-22T10:12:13.582727Z"
        },
        "id": "uJ9Yi74pEXYc"
      },
      "outputs": [],
      "execution_count": null
    },
    {
      "cell_type": "code",
      "source": [
        "#Clean text\n",
        "def clean_text(row):\n",
        "    text = str(row)\n",
        "    text = text.lower()\n",
        "    #replace punctuation\n",
        "    text = re.sub(r'[^\\w\\s]', '', text)\n",
        "    text = text.strip()\n",
        "    text = re.sub(r'\\s+', ' ', text)\n",
        "    doc = nlp(text)\n",
        "    #Lemmatized words\n",
        "    text = ' '.join([token.lemma_ for token in doc if not token.is_stop])\n",
        "    return text"
      ],
      "metadata": {
        "trusted": true,
        "execution": {
          "iopub.status.busy": "2025-04-22T10:12:13.584022Z",
          "iopub.execute_input": "2025-04-22T10:12:13.584218Z",
          "iopub.status.idle": "2025-04-22T10:12:13.590515Z",
          "shell.execute_reply.started": "2025-04-22T10:12:13.584201Z",
          "shell.execute_reply": "2025-04-22T10:12:13.589427Z"
        },
        "id": "Zv160EFAEXYc"
      },
      "outputs": [],
      "execution_count": null
    },
    {
      "cell_type": "code",
      "source": [
        "df['Job Description'] = df['Job Description'].apply(clean_text)"
      ],
      "metadata": {
        "trusted": true,
        "execution": {
          "iopub.status.busy": "2025-04-22T10:12:13.591836Z",
          "iopub.execute_input": "2025-04-22T10:12:13.592211Z",
          "iopub.status.idle": "2025-04-22T10:15:26.141431Z",
          "shell.execute_reply.started": "2025-04-22T10:12:13.592189Z",
          "shell.execute_reply": "2025-04-22T10:15:26.140285Z"
        },
        "id": "_XEmUlReEXYg"
      },
      "outputs": [],
      "execution_count": null
    },
    {
      "cell_type": "code",
      "source": [
        "#Generate ID column\n",
        "df['ID'] = range(1,len(df)+1)"
      ],
      "metadata": {
        "trusted": true,
        "execution": {
          "iopub.status.busy": "2025-04-22T10:15:26.142905Z",
          "iopub.execute_input": "2025-04-22T10:15:26.143276Z",
          "iopub.status.idle": "2025-04-22T10:15:26.148753Z",
          "shell.execute_reply.started": "2025-04-22T10:15:26.143241Z",
          "shell.execute_reply": "2025-04-22T10:15:26.147625Z"
        },
        "id": "U7y9EGm0EXYh"
      },
      "outputs": [],
      "execution_count": null
    },
    {
      "cell_type": "code",
      "source": [
        "df = df.drop(columns=['index','Job Title','Competitors','Easy Apply','Salary Estimate'], axis=1)"
      ],
      "metadata": {
        "trusted": true,
        "execution": {
          "iopub.status.busy": "2025-04-22T10:15:26.150323Z",
          "iopub.execute_input": "2025-04-22T10:15:26.150812Z",
          "iopub.status.idle": "2025-04-22T10:15:26.181243Z",
          "shell.execute_reply.started": "2025-04-22T10:15:26.150751Z",
          "shell.execute_reply": "2025-04-22T10:15:26.179767Z"
        },
        "id": "bQuFe2BMEXYh"
      },
      "outputs": [],
      "execution_count": null
    },
    {
      "cell_type": "markdown",
      "source": [
        "# Normalization"
      ],
      "metadata": {
        "id": "GpBuaBN-EXYh"
      }
    },
    {
      "cell_type": "code",
      "source": [
        "company = df[['Company Name','Rating','Headquarters','Size','Founded','Industry','Sector','Revenue']]\n",
        "listing = df[['ID','Company Name','Location','Salary Estimate_Min','Salary Estimate_Max',]]\n",
        "description = df[['ID','Job Description']]"
      ],
      "metadata": {
        "trusted": true,
        "execution": {
          "iopub.status.busy": "2025-04-22T10:32:41.853669Z",
          "iopub.execute_input": "2025-04-22T10:32:41.85426Z",
          "iopub.status.idle": "2025-04-22T10:32:41.862123Z",
          "shell.execute_reply.started": "2025-04-22T10:32:41.854241Z",
          "shell.execute_reply": "2025-04-22T10:32:41.861136Z"
        },
        "id": "N3E4QIQvEXYh"
      },
      "outputs": [],
      "execution_count": null
    },
    {
      "cell_type": "code",
      "source": [
        "company = company.drop_duplicates()"
      ],
      "metadata": {
        "trusted": true,
        "execution": {
          "iopub.status.busy": "2025-04-22T10:33:59.581111Z",
          "iopub.execute_input": "2025-04-22T10:33:59.581441Z",
          "iopub.status.idle": "2025-04-22T10:33:59.591366Z",
          "shell.execute_reply.started": "2025-04-22T10:33:59.581422Z",
          "shell.execute_reply": "2025-04-22T10:33:59.590587Z"
        },
        "id": "CL9MBmU4EXYh"
      },
      "outputs": [],
      "execution_count": null
    },
    {
      "cell_type": "markdown",
      "source": [
        "# Noun Extracter"
      ],
      "metadata": {
        "id": "aZIOCidiEXYh"
      }
    },
    {
      "cell_type": "code",
      "source": [
        "def noun_extracter(text):\n",
        "  doc = nlp(text)\n",
        "  nouns = [token.text for token in doc if token.pos_ == 'NOUN']\n",
        "  return nouns"
      ],
      "metadata": {
        "trusted": true,
        "execution": {
          "iopub.status.busy": "2025-04-22T10:35:17.12926Z",
          "iopub.execute_input": "2025-04-22T10:35:17.129684Z",
          "iopub.status.idle": "2025-04-22T10:35:17.14743Z",
          "shell.execute_reply.started": "2025-04-22T10:35:17.129653Z",
          "shell.execute_reply": "2025-04-22T10:35:17.145296Z"
        },
        "id": "VjHc1NlPEXYi"
      },
      "outputs": [],
      "execution_count": null
    },
    {
      "cell_type": "code",
      "source": [
        "description['Nouns'] = description['Job Description'].apply(noun_extracter)"
      ],
      "metadata": {
        "id": "-TuAGBaxP3an",
        "outputId": "8eff9c32-5d8e-4a3b-d7ed-7c77ef7caf85",
        "colab": {
          "base_uri": "https://localhost:8080/"
        }
      },
      "execution_count": null,
      "outputs": [
        {
          "output_type": "stream",
          "name": "stderr",
          "text": [
            "<ipython-input-30-fb0e81946b33>:1: SettingWithCopyWarning: \n",
            "A value is trying to be set on a copy of a slice from a DataFrame.\n",
            "Try using .loc[row_indexer,col_indexer] = value instead\n",
            "\n",
            "See the caveats in the documentation: https://pandas.pydata.org/pandas-docs/stable/user_guide/indexing.html#returning-a-view-versus-a-copy\n",
            "  description['Nouns'] = description['Job Description'].apply(noun_extracter)\n"
          ]
        }
      ]
    },
    {
      "cell_type": "code",
      "source": [
        "description['Nouns_str'] = description['Nouns'].apply(lambda x: ' '.join(x))"
      ],
      "metadata": {
        "id": "HYa7DZTGBhiC",
        "outputId": "301c8bbe-2eb8-46cf-f479-f54f997028dc",
        "colab": {
          "base_uri": "https://localhost:8080/"
        }
      },
      "execution_count": null,
      "outputs": [
        {
          "output_type": "stream",
          "name": "stderr",
          "text": [
            "<ipython-input-31-2e6dae1deeec>:1: SettingWithCopyWarning: \n",
            "A value is trying to be set on a copy of a slice from a DataFrame.\n",
            "Try using .loc[row_indexer,col_indexer] = value instead\n",
            "\n",
            "See the caveats in the documentation: https://pandas.pydata.org/pandas-docs/stable/user_guide/indexing.html#returning-a-view-versus-a-copy\n",
            "  description['Nouns_str'] = description['Nouns'].apply(lambda x: ' '.join(x))\n"
          ]
        }
      ]
    },
    {
      "cell_type": "code",
      "source": [
        "# Compute TF IDF for extract specific key requirements\n",
        "from sklearn.feature_extraction.text import TfidfVectorizer\n",
        "vectorizer = TfidfVectorizer()"
      ],
      "metadata": {
        "id": "M34cZdqvAW_5"
      },
      "execution_count": null,
      "outputs": []
    },
    {
      "cell_type": "code",
      "source": [
        "tfidf_array = vectorizer.fit_transform(description['Nouns_str']).toarray()"
      ],
      "metadata": {
        "id": "9tQZ3jDdAiJj"
      },
      "execution_count": null,
      "outputs": []
    },
    {
      "cell_type": "code",
      "source": [
        "tfidf_df = pd.DataFrame(tfidf_array, columns=vectorizer.get_feature_names_out(),index=description['ID'])"
      ],
      "metadata": {
        "id": "R9zZbFxHAta6"
      },
      "execution_count": null,
      "outputs": []
    },
    {
      "cell_type": "code",
      "source": [
        "#Find the threshold to indenfity key skills require by listing\n",
        "threshold = tfidf_df.sum(axis=1).median() ## Since the distribution of TF IDF value's right skewed hence, to keep the significant specific skill, we choose median as threshold to keep them in the list\n",
        "joined_keywords = tfidf_df.apply(lambda row: ' '.join(row[row > 0].index), axis=1).reset_index(name='TFIDF')"
      ],
      "metadata": {
        "id": "yWj2H7xbB5xq"
      },
      "execution_count": null,
      "outputs": []
    },
    {
      "cell_type": "code",
      "source": [
        "joined_keywords.to_csv('TFIDF.csv',index=False)\n",
        "company.to_csv('company.csv',index=False)\n",
        "listing.to_csv('listing.csv',index=False)\n",
        "description.to_csv('description.csv',index=False)\n",
        "tfidf_df.to_csv('raw_tfidf.csv',index=False)"
      ],
      "metadata": {
        "id": "Ct6vRbXvHSnC"
      },
      "execution_count": null,
      "outputs": []
    }
  ]
}